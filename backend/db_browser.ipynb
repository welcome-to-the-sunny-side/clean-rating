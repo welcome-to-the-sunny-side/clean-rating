{
 "cells": [
  {
   "cell_type": "code",
   "execution_count": 1,
   "id": "c4a268bd-f2a6-4ada-95ee-f8e901401f56",
   "metadata": {},
   "outputs": [],
   "source": [
    "import pandas as pd\n",
    "from sqlalchemy import create_engine\n",
    "from dotenv import load_dotenv\n",
    "import os\n",
    "from app.database import SessionLocal, Base, engine\n",
    "from app.models import *\n",
    "from app import models\n",
    "from app.utils import hash_password, reset_db\n",
    "\n",
    "\n",
    "import random\n",
    "import uuid\n",
    "from typing import List, Dict, Set, Tuple\n",
    "\n",
    "import numpy as np\n",
    "from faker import Faker\n",
    "from app.models import (\n",
    "    User,\n",
    "    Group,\n",
    "    GroupMembership,\n",
    "    Report,\n",
    "    Contest,\n",
    "    ContestParticipation,\n",
    "    Role,\n",
    ")"
   ]
  },
  {
   "cell_type": "code",
   "execution_count": 2,
   "id": "4a9c02cd-1b92-462b-b1c2-b083006cdaad",
   "metadata": {},
   "outputs": [],
   "source": [
    "db = SessionLocal()"
   ]
  },
  {
   "cell_type": "code",
   "execution_count": 4,
   "id": "bcd6a2fc-8c87-46f3-9dd6-95c19502e72e",
   "metadata": {},
   "outputs": [
    {
     "name": "stdout",
     "output_type": "stream",
     "text": [
      "<class 'pandas.core.frame.DataFrame'>\n",
      "RangeIndex: 5000 entries, 0 to 4999\n",
      "Data columns (total 10 columns):\n",
      " #   Column                  Non-Null Count  Dtype         \n",
      "---  ------                  --------------  -----         \n",
      " 0   user_id                 5000 non-null   object        \n",
      " 1   role                    5000 non-null   object        \n",
      " 2   create_date             5000 non-null   datetime64[ns]\n",
      " 3   cf_handle               5000 non-null   object        \n",
      " 4   atcoder_handle          2505 non-null   object        \n",
      " 5   codechef_handle         1480 non-null   object        \n",
      " 6   twitter_handle          2065 non-null   object        \n",
      " 7   internal_default_rated  5000 non-null   bool          \n",
      " 8   trusted_score           5000 non-null   int64         \n",
      " 9   hashed_password         5000 non-null   object        \n",
      "dtypes: bool(1), datetime64[ns](1), int64(1), object(7)\n",
      "memory usage: 356.6+ KB\n"
     ]
    }
   ],
   "source": [
    "pd.read_sql(\"SELECT * FROM users\", engine).info()"
   ]
  },
  {
   "cell_type": "code",
   "execution_count": null,
   "id": "cc845482-ed54-411b-b27f-65a66b6ca311",
   "metadata": {},
   "outputs": [],
   "source": []
  }
 ],
 "metadata": {
  "kernelspec": {
   "display_name": "Python 3 (ipykernel)",
   "language": "python",
   "name": "python3"
  },
  "language_info": {
   "codemirror_mode": {
    "name": "ipython",
    "version": 3
   },
   "file_extension": ".py",
   "mimetype": "text/x-python",
   "name": "python",
   "nbconvert_exporter": "python",
   "pygments_lexer": "ipython3",
   "version": "3.13.3"
  }
 },
 "nbformat": 4,
 "nbformat_minor": 5
}
