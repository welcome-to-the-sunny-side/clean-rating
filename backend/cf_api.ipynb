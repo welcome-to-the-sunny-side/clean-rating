{
 "cells": [
  {
   "cell_type": "code",
   "execution_count": 1,
   "id": "11a27a41-cdaf-4cd9-975a-69bbe420669d",
   "metadata": {},
   "outputs": [],
   "source": [
    "import requests"
   ]
  },
  {
   "cell_type": "code",
   "execution_count": 2,
   "id": "d9f96c14-c9e2-4480-b560-cf0c24b34b46",
   "metadata": {},
   "outputs": [],
   "source": [
    "def getContest(cid):\n",
    "    url = 'https://codeforces.com/api/contest.standings'\n",
    "    params = {\n",
    "        'contestId': cid\n",
    "    }\n",
    "    res = requests.get(url, params).json()\n",
    "    if res['status'] != 'OK':\n",
    "        return None\n",
    "    res = res['result']\n",
    "    return {\n",
    "        'contest': res['contest'],\n",
    "        'standings': [\n",
    "            {\n",
    "                'handle': i['party']['members'][0]['handle'],\n",
    "                'rank': i['rank'],\n",
    "                'points': i['points'],\n",
    "                'penalty': i['penalty']\n",
    "            } for i in res['rows']\n",
    "        ]\n",
    "    }"
   ]
  },
  {
   "cell_type": "code",
   "execution_count": 3,
   "id": "bf9712c6-0651-4bc1-a3db-c82093fb067c",
   "metadata": {},
   "outputs": [],
   "source": [
    "cft = getContest(2108)"
   ]
  },
  {
   "cell_type": "code",
   "execution_count": 1,
   "id": "e83a7c6b-7d12-44ba-92f0-b72d69309280",
   "metadata": {},
   "outputs": [],
   "source": [
    "import requests\n",
    "\n",
    "def get_codeforces_user_details(handle):\n",
    "    url = f'https://codeforces.com/api/user.info?handles={handle}'\n",
    "    response = requests.get(url)\n",
    "    \n",
    "    if response.status_code != 200:\n",
    "        raise Exception(f\"API request failed with status code {response.status_code}\")\n",
    "\n",
    "    data = response.json()\n",
    "    \n",
    "    if data['status'] != 'OK':\n",
    "        raise Exception(f\"Error from Codeforces API: {data.get('comment', 'Unknown error')}\")\n",
    "\n",
    "    return data['result'][0]  # user.info returns a list even for a single handle\n",
    "\n",
    "\n"
   ]
  },
  {
   "cell_type": "code",
   "execution_count": 2,
   "id": "e6e0028e-b770-461c-9f81-6f0433459302",
   "metadata": {},
   "outputs": [
    {
     "data": {
      "text/plain": [
       "{'contribution': 128,\n",
       " 'lastOnlineTimeSeconds': 1747328251,\n",
       " 'organization': '',\n",
       " 'rating': 2185,\n",
       " 'friendOfCount': 128,\n",
       " 'titlePhoto': 'https://userpic.codeforces.org/4043346/title/f9af41709def650d.jpg',\n",
       " 'rank': 'master',\n",
       " 'handle': 'negative-xp',\n",
       " 'maxRating': 2185,\n",
       " 'avatar': 'https://userpic.codeforces.org/4043346/avatar/d2979d356511d0ad.jpg',\n",
       " 'registrationTimeSeconds': 1719757308,\n",
       " 'maxRank': 'master'}"
      ]
     },
     "execution_count": 2,
     "metadata": {},
     "output_type": "execute_result"
    }
   ],
   "source": [
    "get_codeforces_user_details('unalive')"
   ]
  },
  {
   "cell_type": "code",
   "execution_count": null,
   "id": "5f780c6a-ada7-44d6-8396-bf15913e9739",
   "metadata": {},
   "outputs": [],
   "source": []
  }
 ],
 "metadata": {
  "kernelspec": {
   "display_name": "Python 3 (ipykernel)",
   "language": "python",
   "name": "python3"
  },
  "language_info": {
   "codemirror_mode": {
    "name": "ipython",
    "version": 3
   },
   "file_extension": ".py",
   "mimetype": "text/x-python",
   "name": "python",
   "nbconvert_exporter": "python",
   "pygments_lexer": "ipython3",
   "version": "3.13.3"
  }
 },
 "nbformat": 4,
 "nbformat_minor": 5
}
